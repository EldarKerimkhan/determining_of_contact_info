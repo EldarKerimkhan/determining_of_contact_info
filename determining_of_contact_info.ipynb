{
 "cells": [
  {
   "cell_type": "markdown",
   "metadata": {},
   "source": [
    "# Determining the presence of contact information"
   ]
  },
  {
   "cell_type": "markdown",
   "metadata": {},
   "source": [
    "# Задача"
   ]
  },
  {
   "cell_type": "markdown",
   "metadata": {},
   "source": [
    "Определить есть ли в объявлении контактная информация"
   ]
  },
  {
   "cell_type": "markdown",
   "metadata": {},
   "source": [
    "# Цель"
   ]
  },
  {
   "cell_type": "markdown",
   "metadata": {},
   "source": [
    "Разработать модель, которая будет предсказывать наличие контактной информации в описании объявления"
   ]
  },
  {
   "cell_type": "markdown",
   "metadata": {},
   "source": [
    "# План работы"
   ]
  },
  {
   "cell_type": "markdown",
   "metadata": {},
   "source": [
    "- Изучить данные.\n",
    "- Подготовить данные к обучению.\n",
    "- Обучить первую простую модель.\n",
    "- Обучить более сложные модели с использованием нейронных сетей или ансамблей."
   ]
  },
  {
   "cell_type": "markdown",
   "metadata": {},
   "source": [
    "# Описание данных"
   ]
  },
  {
   "cell_type": "markdown",
   "metadata": {},
   "source": [
    "Для обучения и инференса обоих задач у вас есть следующие поля:\n",
    "\n",
    "- title - заголовок,\n",
    "- description - описание,\n",
    "- subcategory - подкатегория,\n",
    "- category - категория,\n",
    "- price - цена,\n",
    "- region - регион,\n",
    "- city - город,\n",
    "- datetime_submitted - дата размещения.\n",
    "\n",
    "Таргет задачи: is_bad."
   ]
  },
  {
   "cell_type": "markdown",
   "metadata": {},
   "source": [
    "## Изучение данных"
   ]
  },
  {
   "cell_type": "code",
   "execution_count": 1,
   "metadata": {
    "execution": {
     "iopub.execute_input": "2024-02-26T21:23:08.181043Z",
     "iopub.status.busy": "2024-02-26T21:23:08.180353Z",
     "iopub.status.idle": "2024-02-26T21:23:10.477346Z",
     "shell.execute_reply": "2024-02-26T21:23:10.476168Z",
     "shell.execute_reply.started": "2024-02-26T21:23:08.181007Z"
    }
   },
   "outputs": [],
   "source": [
    "!pip freeze > requirements.txt"
   ]
  },
  {
   "cell_type": "code",
   "execution_count": 2,
   "metadata": {
    "execution": {
     "iopub.execute_input": "2024-02-26T21:23:10.479512Z",
     "iopub.status.busy": "2024-02-26T21:23:10.479199Z",
     "iopub.status.idle": "2024-02-26T21:23:10.483910Z",
     "shell.execute_reply": "2024-02-26T21:23:10.482997Z",
     "shell.execute_reply.started": "2024-02-26T21:23:10.479483Z"
    }
   },
   "outputs": [],
   "source": [
    "# задаем константы\n",
    "RANDOM_STATE = 310723"
   ]
  },
  {
   "cell_type": "markdown",
   "metadata": {},
   "source": [
    "**Импортируем и устаналиваем необходимые библиотеки (pandas, numpy и другие).**"
   ]
  },
  {
   "cell_type": "code",
   "execution_count": 3,
   "metadata": {
    "execution": {
     "iopub.execute_input": "2024-02-26T21:23:10.485380Z",
     "iopub.status.busy": "2024-02-26T21:23:10.485051Z",
     "iopub.status.idle": "2024-02-26T21:23:22.643277Z",
     "shell.execute_reply": "2024-02-26T21:23:22.642343Z",
     "shell.execute_reply.started": "2024-02-26T21:23:10.485346Z"
    }
   },
   "outputs": [
    {
     "name": "stdout",
     "output_type": "stream",
     "text": [
      "Requirement already satisfied: pandas in /opt/conda/lib/python3.10/site-packages (2.2.1)\n",
      "Requirement already satisfied: numpy<2,>=1.22.4 in /opt/conda/lib/python3.10/site-packages (from pandas) (1.24.4)\n",
      "Requirement already satisfied: python-dateutil>=2.8.2 in /opt/conda/lib/python3.10/site-packages (from pandas) (2.8.2)\n",
      "Requirement already satisfied: pytz>=2020.1 in /opt/conda/lib/python3.10/site-packages (from pandas) (2023.3.post1)\n",
      "Requirement already satisfied: tzdata>=2022.7 in /opt/conda/lib/python3.10/site-packages (from pandas) (2023.4)\n",
      "Requirement already satisfied: six>=1.5 in /opt/conda/lib/python3.10/site-packages (from python-dateutil>=2.8.2->pandas) (1.16.0)\n"
     ]
    }
   ],
   "source": [
    "!pip install --upgrade pandas"
   ]
  },
  {
   "cell_type": "code",
   "execution_count": 4,
   "metadata": {
    "execution": {
     "iopub.execute_input": "2024-02-26T21:23:22.646093Z",
     "iopub.status.busy": "2024-02-26T21:23:22.645778Z",
     "iopub.status.idle": "2024-02-26T21:23:23.625255Z",
     "shell.execute_reply": "2024-02-26T21:23:23.624293Z",
     "shell.execute_reply.started": "2024-02-26T21:23:22.646063Z"
    }
   },
   "outputs": [],
   "source": [
    "import numpy as np # linear algebra\n",
    "import pandas as pd # data processing, CSV file I/O (e.g. pd.read_csv)\n",
    "import seaborn as sns\n",
    "import matplotlib.pyplot as plt\n",
    "\n",
    "\n",
    "from sklearn.preprocessing import StandardScaler \n",
    "from sklearn.model_selection import RandomizedSearchCV, GridSearchCV\n",
    "from sklearn.metrics import roc_auc_score\n",
    "from sklearn.utils import shuffle\n",
    "from sklearn.model_selection import train_test_split\n",
    "from catboost import CatBoostClassifier\n",
    "\n",
    "import re\n",
    "from sklearn.compose import make_column_transformer\n",
    "from sklearn.feature_extraction.text import CountVectorizer\n",
    "from sklearn.base import BaseEstimator, TransformerMixin\n",
    "\n",
    "from contextlib import redirect_stdout\n",
    "from io import StringIO"
   ]
  },
  {
   "cell_type": "code",
   "execution_count": 5,
   "metadata": {
    "execution": {
     "iopub.execute_input": "2024-02-26T21:23:23.627497Z",
     "iopub.status.busy": "2024-02-26T21:23:23.626630Z",
     "iopub.status.idle": "2024-02-26T21:23:23.641385Z",
     "shell.execute_reply": "2024-02-26T21:23:23.640547Z",
     "shell.execute_reply.started": "2024-02-26T21:23:23.627459Z"
    }
   },
   "outputs": [
    {
     "name": "stdout",
     "output_type": "stream",
     "text": [
      "/kaggle/input/avito-dataset/data/val.csv\n",
      "/kaggle/input/avito-dataset/data/test_data.csv\n",
      "/kaggle/input/avito-dataset/data/train.csv\n"
     ]
    }
   ],
   "source": [
    "import os\n",
    "for dirname, _, filenames in os.walk('/kaggle/input/avito-dataset/data'):\n",
    "    for filename in filenames:\n",
    "        print(os.path.join(dirname, filename))"
   ]
  },
  {
   "cell_type": "code",
   "execution_count": 6,
   "metadata": {
    "execution": {
     "iopub.execute_input": "2024-02-26T21:23:23.642644Z",
     "iopub.status.busy": "2024-02-26T21:23:23.642368Z",
     "iopub.status.idle": "2024-02-26T21:23:23.647577Z",
     "shell.execute_reply": "2024-02-26T21:23:23.646749Z",
     "shell.execute_reply.started": "2024-02-26T21:23:23.642621Z"
    }
   },
   "outputs": [],
   "source": [
    "if os.path.exists('/kaggle/input/avito-dataset/data/train.csv'):\n",
    "    dataset_path = \"/kaggle/input/avito-dataset/data/train.csv\"\n",
    "elif os.path.exists('C:/Users/User/Desktop/DS Python/Avito/contacts-in-item-EldarKerimkhan-master/data/train.csv'):\n",
    "    dataset_path = \"C:/Users/User/Desktop/DS Python/Avito/contacts-in-item-EldarKerimkhan-master/data/train.csv\"\n",
    "else:\n",
    "    print('Something is wrong')"
   ]
  },
  {
   "cell_type": "code",
   "execution_count": 7,
   "metadata": {
    "execution": {
     "iopub.execute_input": "2024-02-26T21:23:23.648740Z",
     "iopub.status.busy": "2024-02-26T21:23:23.648509Z",
     "iopub.status.idle": "2024-02-26T21:23:23.657191Z",
     "shell.execute_reply": "2024-02-26T21:23:23.656391Z",
     "shell.execute_reply.started": "2024-02-26T21:23:23.648720Z"
    }
   },
   "outputs": [],
   "source": [
    "if os.path.exists('/kaggle/input/avito-dataset/data/val.csv'):\n",
    "    valid_path = \"/kaggle/input/avito-dataset/data/val.csv\"\n",
    "elif os.path.exists('C:/Users/User/Desktop/DS Python/Avito/contacts-in-item-EldarKerimkhan-master/data/val.csv'):\n",
    "    valid_path = \"C:/Users/User/Desktop/DS Python/Avito/contacts-in-item-EldarKerimkhan-master/data/val.csv\"\n",
    "else:\n",
    "    print('Something is wrong')"
   ]
  },
  {
   "cell_type": "markdown",
   "metadata": {},
   "source": [
    "**Функция для первоначального анализа датасета.**"
   ]
  },
  {
   "cell_type": "code",
   "execution_count": 8,
   "metadata": {
    "execution": {
     "iopub.execute_input": "2024-02-26T21:23:23.658583Z",
     "iopub.status.busy": "2024-02-26T21:23:23.658310Z",
     "iopub.status.idle": "2024-02-26T21:23:23.665889Z",
     "shell.execute_reply": "2024-02-26T21:23:23.665046Z",
     "shell.execute_reply.started": "2024-02-26T21:23:23.658551Z"
    }
   },
   "outputs": [],
   "source": [
    "def initial_dataset_analysis(dataset_path):\n",
    "    # Загрузка датасета\n",
    "    df = pd.read_csv(dataset_path, delimiter=',')\n",
    "\n",
    "    # Основные статистики\n",
    "    statistics = df.describe()\n",
    "    \n",
    "    # Информация о типах данных и пропущенных значениях\n",
    "    info_buffer = StringIO()\n",
    "    with redirect_stdout(info_buffer):\n",
    "        df.info()\n",
    "    info_result = info_buffer.getvalue()\n",
    "    \n",
    "    # Информация о пропущенных значениях\n",
    "    missed = pd.DataFrame(round(df.isna().mean()*100,1)).style.background_gradient('coolwarm') \n",
    "\n",
    "    return df, missed, info_result, statistics"
   ]
  },
  {
   "cell_type": "markdown",
   "metadata": {},
   "source": [
    "**Выведем основную информацию о данном датафрейме с помощью функции initial_dataset_analysis.**"
   ]
  },
  {
   "cell_type": "code",
   "execution_count": 9,
   "metadata": {
    "execution": {
     "iopub.execute_input": "2024-02-26T21:23:23.667134Z",
     "iopub.status.busy": "2024-02-26T21:23:23.666876Z",
     "iopub.status.idle": "2024-02-26T21:23:44.396791Z",
     "shell.execute_reply": "2024-02-26T21:23:44.395897Z",
     "shell.execute_reply.started": "2024-02-26T21:23:23.667106Z"
    }
   },
   "outputs": [
    {
     "name": "stdout",
     "output_type": "stream",
     "text": [
      "\n",
      "Data Information:\n",
      "<class 'pandas.core.frame.DataFrame'>\n",
      "RangeIndex: 984487 entries, 0 to 984486\n",
      "Data columns (total 9 columns):\n",
      " #   Column              Non-Null Count   Dtype  \n",
      "---  ------              --------------   -----  \n",
      " 0   title               984487 non-null  object \n",
      " 1   description         984487 non-null  object \n",
      " 2   subcategory         984487 non-null  object \n",
      " 3   category            984487 non-null  object \n",
      " 4   price               926439 non-null  float64\n",
      " 5   region              984487 non-null  object \n",
      " 6   city                984487 non-null  object \n",
      " 7   datetime_submitted  984487 non-null  object \n",
      " 8   is_bad              984487 non-null  int64  \n",
      "dtypes: float64(1), int64(1), object(7)\n",
      "memory usage: 67.6+ MB\n",
      "==========\n",
      "\n",
      "Data missed values:\n"
     ]
    },
    {
     "data": {
      "text/html": [
       "<style type=\"text/css\">\n",
       "#T_cc892_row0_col0, #T_cc892_row1_col0, #T_cc892_row2_col0, #T_cc892_row3_col0, #T_cc892_row5_col0, #T_cc892_row6_col0, #T_cc892_row7_col0, #T_cc892_row8_col0 {\n",
       "  background-color: #3b4cc0;\n",
       "  color: #f1f1f1;\n",
       "}\n",
       "#T_cc892_row4_col0 {\n",
       "  background-color: #b40426;\n",
       "  color: #f1f1f1;\n",
       "}\n",
       "</style>\n",
       "<table id=\"T_cc892\">\n",
       "  <thead>\n",
       "    <tr>\n",
       "      <th class=\"blank level0\" >&nbsp;</th>\n",
       "      <th id=\"T_cc892_level0_col0\" class=\"col_heading level0 col0\" >0</th>\n",
       "    </tr>\n",
       "  </thead>\n",
       "  <tbody>\n",
       "    <tr>\n",
       "      <th id=\"T_cc892_level0_row0\" class=\"row_heading level0 row0\" >title</th>\n",
       "      <td id=\"T_cc892_row0_col0\" class=\"data row0 col0\" >0.000000</td>\n",
       "    </tr>\n",
       "    <tr>\n",
       "      <th id=\"T_cc892_level0_row1\" class=\"row_heading level0 row1\" >description</th>\n",
       "      <td id=\"T_cc892_row1_col0\" class=\"data row1 col0\" >0.000000</td>\n",
       "    </tr>\n",
       "    <tr>\n",
       "      <th id=\"T_cc892_level0_row2\" class=\"row_heading level0 row2\" >subcategory</th>\n",
       "      <td id=\"T_cc892_row2_col0\" class=\"data row2 col0\" >0.000000</td>\n",
       "    </tr>\n",
       "    <tr>\n",
       "      <th id=\"T_cc892_level0_row3\" class=\"row_heading level0 row3\" >category</th>\n",
       "      <td id=\"T_cc892_row3_col0\" class=\"data row3 col0\" >0.000000</td>\n",
       "    </tr>\n",
       "    <tr>\n",
       "      <th id=\"T_cc892_level0_row4\" class=\"row_heading level0 row4\" >price</th>\n",
       "      <td id=\"T_cc892_row4_col0\" class=\"data row4 col0\" >5.900000</td>\n",
       "    </tr>\n",
       "    <tr>\n",
       "      <th id=\"T_cc892_level0_row5\" class=\"row_heading level0 row5\" >region</th>\n",
       "      <td id=\"T_cc892_row5_col0\" class=\"data row5 col0\" >0.000000</td>\n",
       "    </tr>\n",
       "    <tr>\n",
       "      <th id=\"T_cc892_level0_row6\" class=\"row_heading level0 row6\" >city</th>\n",
       "      <td id=\"T_cc892_row6_col0\" class=\"data row6 col0\" >0.000000</td>\n",
       "    </tr>\n",
       "    <tr>\n",
       "      <th id=\"T_cc892_level0_row7\" class=\"row_heading level0 row7\" >datetime_submitted</th>\n",
       "      <td id=\"T_cc892_row7_col0\" class=\"data row7 col0\" >0.000000</td>\n",
       "    </tr>\n",
       "    <tr>\n",
       "      <th id=\"T_cc892_level0_row8\" class=\"row_heading level0 row8\" >is_bad</th>\n",
       "      <td id=\"T_cc892_row8_col0\" class=\"data row8 col0\" >0.000000</td>\n",
       "    </tr>\n",
       "  </tbody>\n",
       "</table>\n"
      ],
      "text/plain": [
       "<pandas.io.formats.style.Styler at 0x7dfa6072fbe0>"
      ]
     },
     "metadata": {},
     "output_type": "display_data"
    },
    {
     "name": "stdout",
     "output_type": "stream",
     "text": [
      "==========\n",
      "Summary Statistics:\n"
     ]
    },
    {
     "data": {
      "text/html": [
       "<div>\n",
       "<style scoped>\n",
       "    .dataframe tbody tr th:only-of-type {\n",
       "        vertical-align: middle;\n",
       "    }\n",
       "\n",
       "    .dataframe tbody tr th {\n",
       "        vertical-align: top;\n",
       "    }\n",
       "\n",
       "    .dataframe thead th {\n",
       "        text-align: right;\n",
       "    }\n",
       "</style>\n",
       "<table border=\"1\" class=\"dataframe\">\n",
       "  <thead>\n",
       "    <tr style=\"text-align: right;\">\n",
       "      <th></th>\n",
       "      <th>price</th>\n",
       "      <th>is_bad</th>\n",
       "    </tr>\n",
       "  </thead>\n",
       "  <tbody>\n",
       "    <tr>\n",
       "      <th>count</th>\n",
       "      <td>9.264390e+05</td>\n",
       "      <td>984487.000000</td>\n",
       "    </tr>\n",
       "    <tr>\n",
       "      <th>mean</th>\n",
       "      <td>1.238053e+07</td>\n",
       "      <td>0.242020</td>\n",
       "    </tr>\n",
       "    <tr>\n",
       "      <th>std</th>\n",
       "      <td>2.814850e+09</td>\n",
       "      <td>0.428307</td>\n",
       "    </tr>\n",
       "    <tr>\n",
       "      <th>min</th>\n",
       "      <td>0.000000e+00</td>\n",
       "      <td>0.000000</td>\n",
       "    </tr>\n",
       "    <tr>\n",
       "      <th>25%</th>\n",
       "      <td>9.990000e+02</td>\n",
       "      <td>0.000000</td>\n",
       "    </tr>\n",
       "    <tr>\n",
       "      <th>50%</th>\n",
       "      <td>3.750000e+03</td>\n",
       "      <td>0.000000</td>\n",
       "    </tr>\n",
       "    <tr>\n",
       "      <th>75%</th>\n",
       "      <td>2.000000e+04</td>\n",
       "      <td>0.000000</td>\n",
       "    </tr>\n",
       "    <tr>\n",
       "      <th>max</th>\n",
       "      <td>1.000000e+12</td>\n",
       "      <td>1.000000</td>\n",
       "    </tr>\n",
       "  </tbody>\n",
       "</table>\n",
       "</div>"
      ],
      "text/plain": [
       "              price         is_bad\n",
       "count  9.264390e+05  984487.000000\n",
       "mean   1.238053e+07       0.242020\n",
       "std    2.814850e+09       0.428307\n",
       "min    0.000000e+00       0.000000\n",
       "25%    9.990000e+02       0.000000\n",
       "50%    3.750000e+03       0.000000\n",
       "75%    2.000000e+04       0.000000\n",
       "max    1.000000e+12       1.000000"
      ]
     },
     "metadata": {},
     "output_type": "display_data"
    },
    {
     "name": "stdout",
     "output_type": "stream",
     "text": [
      "==========\n",
      "\n",
      "Data:\n",
      "                                     title  \\\n",
      "0                            Диван-кровать   \n",
      "1  Кожух рулевой колонки Даф хф 91 4509834   \n",
      "2            Дешёвый буст аккаунтов Dota 4   \n",
      "3        Телевизор sharp.Смарт тв.Интернет   \n",
      "4                         Открытка-конверт   \n",
      "\n",
      "                                         description            subcategory  \\\n",
      "0  Продаем диван-кровать. Удобный механизм - евро...      Мебель и интерьер   \n",
      "1  Кожух рулевой колонки DAF XF 94 (60066004)/\\n ...  Запчасти и аксессуары   \n",
      "2  ! Буст аккаунтов с ммр выше 1000ммр не беру ! ...      Предложение услуг   \n",
      "3  Продам телевизор . Диагональ 450.наличие входа...          Аудио и видео   \n",
      "4  Открытки-конверты ручной работы/\\nВыполнены в ...     Коллекционирование   \n",
      "\n",
      "              category    price                   region          city  \\\n",
      "0      Для дома и дачи   7000.0                   Россия        Москва   \n",
      "1            Транспорт   2290.0                   Россия        Москва   \n",
      "2               Услуги    200.0          Северная Осетия   Владикавказ   \n",
      "3  Бытовая электроника  25000.0  Калининградская область       Советск   \n",
      "4        Хобби и отдых    150.0      Ставропольский край  Ессентукская   \n",
      "\n",
      "           datetime_submitted  is_bad  \n",
      "0  2019-06-01 00:00:15.180656       0  \n",
      "1  2019-06-01 00:00:44.317933       0  \n",
      "2  2019-06-01 00:00:50.249692       1  \n",
      "3  2019-06-01 00:00:50.325799       1  \n",
      "4  2019-06-01 00:00:56.632655       0  \n"
     ]
    }
   ],
   "source": [
    "data, data_missed, data_info, data_statistics = initial_dataset_analysis(dataset_path)\n",
    "\n",
    "print(\"\\nData Information:\")\n",
    "info_lines = data_info.splitlines()\n",
    "for line in info_lines:\n",
    "    print(line)\n",
    "print(\"=\" * 10)\n",
    "\n",
    "print(\"\\nData missed values:\")\n",
    "display(data_missed)\n",
    "print(\"=\" * 10)\n",
    "\n",
    "print(\"Summary Statistics:\")\n",
    "display(data_statistics)\n",
    "print(\"=\" * 10)\n",
    "\n",
    "print(\"\\nData:\")\n",
    "print(data.head())"
   ]
  },
  {
   "cell_type": "markdown",
   "metadata": {},
   "source": [
    "Проанализируем датасет и постараемся сберечь эти строки для модели предсказания"
   ]
  },
  {
   "cell_type": "code",
   "execution_count": 10,
   "metadata": {
    "execution": {
     "iopub.execute_input": "2024-02-26T21:23:44.401656Z",
     "iopub.status.busy": "2024-02-26T21:23:44.401211Z",
     "iopub.status.idle": "2024-02-26T21:23:44.504501Z",
     "shell.execute_reply": "2024-02-26T21:23:44.503751Z",
     "shell.execute_reply.started": "2024-02-26T21:23:44.401629Z"
    }
   },
   "outputs": [],
   "source": [
    "data_new = data.copy()"
   ]
  },
  {
   "cell_type": "markdown",
   "metadata": {},
   "source": [
    "Просмотрели уникальные значения для всех столбцов для поиска дублирующих объявлений."
   ]
  },
  {
   "cell_type": "code",
   "execution_count": 11,
   "metadata": {
    "execution": {
     "iopub.execute_input": "2024-02-26T21:23:44.505954Z",
     "iopub.status.busy": "2024-02-26T21:23:44.505586Z",
     "iopub.status.idle": "2024-02-26T21:23:49.360855Z",
     "shell.execute_reply": "2024-02-26T21:23:49.359849Z",
     "shell.execute_reply.started": "2024-02-26T21:23:44.505922Z"
    }
   },
   "outputs": [
    {
     "name": "stdout",
     "output_type": "stream",
     "text": [
      "Unique values for title = 642182\n",
      "Unique values for description = 984434\n",
      "Unique values for subcategory = 50\n",
      "Unique values for category = 10\n",
      "Unique values for price = 24382\n",
      "Unique values for region = 85\n",
      "Unique values for city = 3311\n",
      "Unique values for datetime_submitted = 984487\n",
      "Unique values for is_bad = 2\n"
     ]
    }
   ],
   "source": [
    "for column in data_new.columns:\n",
    "    print(\"Unique values for\", column, \"=\", len(data_new[column].unique()))"
   ]
  },
  {
   "cell_type": "markdown",
   "metadata": {},
   "source": [
    "Изучим дубликаты в признаке 'description'."
   ]
  },
  {
   "cell_type": "code",
   "execution_count": 12,
   "metadata": {
    "execution": {
     "iopub.execute_input": "2024-02-26T21:23:49.362274Z",
     "iopub.status.busy": "2024-02-26T21:23:49.361976Z",
     "iopub.status.idle": "2024-02-26T21:23:50.127684Z",
     "shell.execute_reply": "2024-02-26T21:23:50.126761Z",
     "shell.execute_reply.started": "2024-02-26T21:23:49.362247Z"
    }
   },
   "outputs": [
    {
     "data": {
      "text/plain": [
       "53"
      ]
     },
     "execution_count": 12,
     "metadata": {},
     "output_type": "execute_result"
    }
   ],
   "source": [
    "data_new['description'].duplicated().sum()"
   ]
  },
  {
   "cell_type": "code",
   "execution_count": 13,
   "metadata": {
    "execution": {
     "iopub.execute_input": "2024-02-26T21:23:50.129454Z",
     "iopub.status.busy": "2024-02-26T21:23:50.129097Z",
     "iopub.status.idle": "2024-02-26T21:23:50.360740Z",
     "shell.execute_reply": "2024-02-26T21:23:50.359787Z",
     "shell.execute_reply.started": "2024-02-26T21:23:50.129424Z"
    }
   },
   "outputs": [],
   "source": [
    "all_duplicates = data_new[data_new['description'].duplicated(keep=False)]"
   ]
  },
  {
   "cell_type": "markdown",
   "metadata": {},
   "source": [
    "Теперь изучим объявления с одним и тем же описанием. "
   ]
  },
  {
   "cell_type": "code",
   "execution_count": 14,
   "metadata": {
    "execution": {
     "iopub.execute_input": "2024-02-26T21:23:50.362498Z",
     "iopub.status.busy": "2024-02-26T21:23:50.362174Z",
     "iopub.status.idle": "2024-02-26T21:23:50.585317Z",
     "shell.execute_reply": "2024-02-26T21:23:50.584414Z",
     "shell.execute_reply.started": "2024-02-26T21:23:50.362470Z"
    }
   },
   "outputs": [
    {
     "data": {
      "text/html": [
       "<div>\n",
       "<style scoped>\n",
       "    .dataframe tbody tr th:only-of-type {\n",
       "        vertical-align: middle;\n",
       "    }\n",
       "\n",
       "    .dataframe tbody tr th {\n",
       "        vertical-align: top;\n",
       "    }\n",
       "\n",
       "    .dataframe thead th {\n",
       "        text-align: right;\n",
       "    }\n",
       "</style>\n",
       "<table border=\"1\" class=\"dataframe\">\n",
       "  <thead>\n",
       "    <tr style=\"text-align: right;\">\n",
       "      <th></th>\n",
       "      <th>title</th>\n",
       "      <th>description</th>\n",
       "      <th>subcategory</th>\n",
       "      <th>category</th>\n",
       "      <th>price</th>\n",
       "      <th>region</th>\n",
       "      <th>city</th>\n",
       "      <th>datetime_submitted</th>\n",
       "      <th>is_bad</th>\n",
       "    </tr>\n",
       "  </thead>\n",
       "  <tbody>\n",
       "    <tr>\n",
       "      <th>35198</th>\n",
       "      <td>Туфли</td>\n",
       "      <td>Размер 35</td>\n",
       "      <td>Одежда, обувь, аксессуары</td>\n",
       "      <td>Личные вещи</td>\n",
       "      <td>1000.0</td>\n",
       "      <td>Тюменская область</td>\n",
       "      <td>Ялуторовск</td>\n",
       "      <td>2019-06-04 21:29:22.183650</td>\n",
       "      <td>0</td>\n",
       "    </tr>\n",
       "    <tr>\n",
       "      <th>194915</th>\n",
       "      <td>Трико борцовское синее</td>\n",
       "      <td>Размер 35</td>\n",
       "      <td>Спорт и отдых</td>\n",
       "      <td>Хобби и отдых</td>\n",
       "      <td>400.0</td>\n",
       "      <td>Курганская область</td>\n",
       "      <td>Шадринск</td>\n",
       "      <td>2019-06-25 21:10:39.402795</td>\n",
       "      <td>0</td>\n",
       "    </tr>\n",
       "    <tr>\n",
       "      <th>247201</th>\n",
       "      <td>Сандали</td>\n",
       "      <td>Размер 35</td>\n",
       "      <td>Детская одежда и обувь</td>\n",
       "      <td>Личные вещи</td>\n",
       "      <td>200.0</td>\n",
       "      <td>Тюменская область</td>\n",
       "      <td>Тюмень</td>\n",
       "      <td>2019-07-03 16:47:14.129170</td>\n",
       "      <td>0</td>\n",
       "    </tr>\n",
       "    <tr>\n",
       "      <th>588350</th>\n",
       "      <td>Туфли мужские</td>\n",
       "      <td>Размер 35</td>\n",
       "      <td>Одежда, обувь, аксессуары</td>\n",
       "      <td>Личные вещи</td>\n",
       "      <td>599.0</td>\n",
       "      <td>Пермский край</td>\n",
       "      <td>Пермь</td>\n",
       "      <td>2019-08-20 07:15:46.480546</td>\n",
       "      <td>0</td>\n",
       "    </tr>\n",
       "    <tr>\n",
       "      <th>738951</th>\n",
       "      <td>Сланцы</td>\n",
       "      <td>Размер 35</td>\n",
       "      <td>Одежда, обувь, аксессуары</td>\n",
       "      <td>Личные вещи</td>\n",
       "      <td>400.0</td>\n",
       "      <td>Московская область</td>\n",
       "      <td>Коломна</td>\n",
       "      <td>2019-09-08 09:54:50.314627</td>\n",
       "      <td>0</td>\n",
       "    </tr>\n",
       "    <tr>\n",
       "      <th>936402</th>\n",
       "      <td>Ботинки</td>\n",
       "      <td>Размер 35</td>\n",
       "      <td>Детская одежда и обувь</td>\n",
       "      <td>Личные вещи</td>\n",
       "      <td>700.0</td>\n",
       "      <td>Хакасия</td>\n",
       "      <td>Абакан</td>\n",
       "      <td>2019-10-03 12:39:09.356122</td>\n",
       "      <td>0</td>\n",
       "    </tr>\n",
       "  </tbody>\n",
       "</table>\n",
       "</div>"
      ],
      "text/plain": [
       "                         title description                subcategory  \\\n",
       "35198                    Туфли   Размер 35  Одежда, обувь, аксессуары   \n",
       "194915  Трико борцовское синее   Размер 35              Спорт и отдых   \n",
       "247201                 Сандали   Размер 35     Детская одежда и обувь   \n",
       "588350           Туфли мужские   Размер 35  Одежда, обувь, аксессуары   \n",
       "738951                  Сланцы   Размер 35  Одежда, обувь, аксессуары   \n",
       "936402                 Ботинки   Размер 35     Детская одежда и обувь   \n",
       "\n",
       "             category   price              region        city  \\\n",
       "35198     Личные вещи  1000.0   Тюменская область  Ялуторовск   \n",
       "194915  Хобби и отдых   400.0  Курганская область    Шадринск   \n",
       "247201    Личные вещи   200.0   Тюменская область      Тюмень   \n",
       "588350    Личные вещи   599.0       Пермский край       Пермь   \n",
       "738951    Личные вещи   400.0  Московская область     Коломна   \n",
       "936402    Личные вещи   700.0             Хакасия      Абакан   \n",
       "\n",
       "                datetime_submitted  is_bad  \n",
       "35198   2019-06-04 21:29:22.183650       0  \n",
       "194915  2019-06-25 21:10:39.402795       0  \n",
       "247201  2019-07-03 16:47:14.129170       0  \n",
       "588350  2019-08-20 07:15:46.480546       0  \n",
       "738951  2019-09-08 09:54:50.314627       0  \n",
       "936402  2019-10-03 12:39:09.356122       0  "
      ]
     },
     "execution_count": 14,
     "metadata": {},
     "output_type": "execute_result"
    }
   ],
   "source": [
    "data_new[data_new['description'] == 'Размер 35']"
   ]
  },
  {
   "cell_type": "markdown",
   "metadata": {},
   "source": [
    "Как видим, у объявлений может быть одно и то же описание, но города, цена, категория или другие признаки разные, что делает это объявление уникальным. \n",
    "\n",
    "Дубликаты не будем удалять."
   ]
  },
  {
   "cell_type": "markdown",
   "metadata": {},
   "source": [
    "Сделаем ряд преобразований над датасетом."
   ]
  },
  {
   "cell_type": "markdown",
   "metadata": {},
   "source": [
    "При исследоании датасета, выяснили, что дата выгрузки - '2019-10-10'. \n",
    "\n",
    "Можно сказать, что данные выгрузили 10 октября 2019 года.\n",
    "\n",
    "На данную дату курс доллара США был 65,1 руб. Сегодня курс доллара 92,5 руб. Можем это учесть при отсечении выбросов и аномальных значений.\n",
    "\n",
    "Создадим словарь, в который поместим наиболее реальные значения цен (проанализирован сайт вручную), которые уже на основе курса доллара записаны на момент '2019-10-10'."
   ]
  },
  {
   "cell_type": "code",
   "execution_count": 15,
   "metadata": {
    "execution": {
     "iopub.execute_input": "2024-02-26T21:23:50.587125Z",
     "iopub.status.busy": "2024-02-26T21:23:50.586597Z",
     "iopub.status.idle": "2024-02-26T21:23:50.597220Z",
     "shell.execute_reply": "2024-02-26T21:23:50.596274Z",
     "shell.execute_reply.started": "2024-02-26T21:23:50.587089Z"
    }
   },
   "outputs": [],
   "source": [
    "max_price_dict = {'Автомобили': 105000000,\n",
    "                  'Аквариум': 1050000,\n",
    "                  'Аудио и видео': 1500000,\n",
    "                  'Билеты и путешествия': 105000,\n",
    "                  'Бытовая техника': 2110000,\n",
    "                  'Вакансии': 850000,\n",
    "                  'Велосипеды': 1500000,\n",
    "                  'Водный транспорт': 350000000,\n",
    "                  'Гаражи и машиноместа': 6300000,\n",
    "                  'Готовый бизнес': 2500000000,\n",
    "                  'Грузовики и спецтехника': 9150000,\n",
    "                  'Детская одежда и обувь': 28000,\n",
    "                  'Дома, дачи, коттеджи': 17600000,\n",
    "                  'Другие животные': 180000,\n",
    "                  'Запчасти и аксессуары': 615000,\n",
    "                  'Земельные участки': 14000000000,\n",
    "                  'Игры, приставки и программы': 20000,\n",
    "                  'Квартиры': 1400000000,\n",
    "                  'Книги и журналы': 2110000,\n",
    "                  'Коллекционирование': 704000000,\n",
    "                  'Коммерческая недвижимость': 350000000,\n",
    "                  'Комнаты': 35200000,\n",
    "                  'Кошки': 580000,\n",
    "                  'Красота и здоровье': 14000,\n",
    "                  'Мебель и интерьер': 800000,\n",
    "                  'Мотоциклы и мототехника': 7000000,\n",
    "                  'Музыкальные инструменты': 4200000,\n",
    "                  'Настольные компьютеры': 550000,\n",
    "                  'Недвижимость за рубежом': 1100000000,\n",
    "                  'Ноутбуки': 900000,\n",
    "                  'Оборудование для бизнеса': 110000000,\n",
    "                  'Одежда, обувь, аксессуары': 400000,\n",
    "                  'Оргтехника и расходники': 10000,\n",
    "                  'Охота и рыбалка': 70000,\n",
    "                  'Планшеты и электронные книги': 40000,\n",
    "                  'Посуда и товары для кухни': 21120,\n",
    "                  'Предложение услуг': 180000,\n",
    "                  'Продукты питания': 70000,\n",
    "                  'Птицы': 200000,\n",
    "                  'Растения': 800000,\n",
    "                  'Резюме': 350000,\n",
    "                  'Ремонт и строительство': 704000,\n",
    "                  'Собаки': 1100000000,\n",
    "                  'Спорт и отдых': 100000,\n",
    "                  'Телефоны': 1500000,\n",
    "                  'Товары для детей и игрушки': 100000,\n",
    "                  'Товары для животных': 600000,\n",
    "                  'Товары для компьютера': 1000000,\n",
    "                  'Фототехника': 5000000,\n",
    "                  'Часы и украшения': 9000000}"
   ]
  },
  {
   "cell_type": "code",
   "execution_count": 16,
   "metadata": {
    "execution": {
     "iopub.execute_input": "2024-02-26T21:23:50.599126Z",
     "iopub.status.busy": "2024-02-26T21:23:50.598767Z",
     "iopub.status.idle": "2024-02-26T21:23:50.612268Z",
     "shell.execute_reply": "2024-02-26T21:23:50.611448Z",
     "shell.execute_reply.started": "2024-02-26T21:23:50.599094Z"
    }
   },
   "outputs": [],
   "source": [
    "date_get = pd.to_datetime('2019-10-10')"
   ]
  },
  {
   "cell_type": "markdown",
   "metadata": {},
   "source": [
    "Теперь мы можем создать дополнительные признаки на основе даты выгрузки."
   ]
  },
  {
   "cell_type": "code",
   "execution_count": 17,
   "metadata": {
    "execution": {
     "iopub.execute_input": "2024-02-26T21:23:50.613481Z",
     "iopub.status.busy": "2024-02-26T21:23:50.613243Z",
     "iopub.status.idle": "2024-02-26T21:23:50.623394Z",
     "shell.execute_reply": "2024-02-26T21:23:50.622596Z",
     "shell.execute_reply.started": "2024-02-26T21:23:50.613460Z"
    }
   },
   "outputs": [],
   "source": [
    "# функция для обработки пропусков\n",
    "def fillna_median(dataset, column):\n",
    "    filled_dataset = dataset.copy()\n",
    "    filled_dataset[column] = filled_dataset.groupby('subcategory')[column].transform(lambda x: x.fillna(x.median()))\n",
    "    return filled_dataset"
   ]
  },
  {
   "cell_type": "code",
   "execution_count": 18,
   "metadata": {
    "execution": {
     "iopub.execute_input": "2024-02-26T21:23:50.624960Z",
     "iopub.status.busy": "2024-02-26T21:23:50.624600Z",
     "iopub.status.idle": "2024-02-26T21:23:50.633593Z",
     "shell.execute_reply": "2024-02-26T21:23:50.632738Z",
     "shell.execute_reply.started": "2024-02-26T21:23:50.624929Z"
    }
   },
   "outputs": [],
   "source": [
    "# функция для создания токенов - упрощенная\n",
    "def tokenizer(text):\n",
    "    # все неалфавитные символы заменяются на пробелы\n",
    "    text = re.sub(r'\\W', ' ', text) \n",
    "    # символ '_' находится и удаляется.\n",
    "    text = re.sub(r'_', '', text)\n",
    "    # вставляет пробел перед нецифровым символом, который находится после цифры\n",
    "    text = re.sub(r'(?<=\\d)(\\D)', r' \\1', text)\n",
    "    # вставляет пробел после нецифрового символа, который находится перед цифрой\n",
    "    text = re.sub(r'(\\D)(?=\\d)', r'\\1 ', text)\n",
    "    # все цифры заменяются на 0.\n",
    "    text = re.sub(r'\\d', '0', text)\n",
    "    return text.lower().split()"
   ]
  },
  {
   "cell_type": "code",
   "execution_count": 19,
   "metadata": {
    "execution": {
     "iopub.execute_input": "2024-02-26T21:23:50.635581Z",
     "iopub.status.busy": "2024-02-26T21:23:50.634661Z",
     "iopub.status.idle": "2024-02-26T21:23:50.647567Z",
     "shell.execute_reply": "2024-02-26T21:23:50.646803Z",
     "shell.execute_reply.started": "2024-02-26T21:23:50.635556Z"
    }
   },
   "outputs": [],
   "source": [
    "# функция для обнаружения номера телефона\n",
    "def phone_num(text):\n",
    "    if re.search(r'(\\d.*){6,11}', text):\n",
    "        return 1\n",
    "    else:\n",
    "        return 0\n",
    "    \n",
    "# функция для обнаружения номера телефона в формате РФ\n",
    "def phone_rus(text):\n",
    "    if re.search(r'(\\+7|7|8)+([0-9]){10}', text):\n",
    "        return 1\n",
    "    else:\n",
    "        return 0  \n",
    "\n",
    "# функция для обнаружения номера телефона в описании без букв\n",
    "def phone_no_letter(text):    \n",
    "    if re.match(r'\\d{6,11}', re.sub('\\D', '', text)):\n",
    "        return 1\n",
    "    else:\n",
    "        return 0\n",
    "\n",
    "# функция для обнаружения номера телефона в описании без пробелов\n",
    "def phone_no_space(text):\n",
    "    if re.search(r'\\d{6,11}', re.sub('\\s', '', text)):\n",
    "        return 1\n",
    "    else:\n",
    "        return 0"
   ]
  },
  {
   "cell_type": "code",
   "execution_count": 20,
   "metadata": {
    "execution": {
     "iopub.execute_input": "2024-02-26T21:23:50.648779Z",
     "iopub.status.busy": "2024-02-26T21:23:50.648537Z",
     "iopub.status.idle": "2024-02-26T21:23:50.658717Z",
     "shell.execute_reply": "2024-02-26T21:23:50.657878Z",
     "shell.execute_reply.started": "2024-02-26T21:23:50.648757Z"
    }
   },
   "outputs": [],
   "source": [
    "def data_processing(data, date_get, max_price_dict):\n",
    "    # Переведем признак со временем в обрабатываемый тип данных\n",
    "    data['datetime_submitted'] = pd.to_datetime(data['datetime_submitted'])\n",
    "    data['days'] = date_get - data['datetime_submitted']\n",
    "    \n",
    "    # data_new['timedelta'] будет представлять временные интервалы в наносекундах в целочисленной форме\n",
    "    data['timedelta'] = data['days'].dt.total_seconds().astype(int)\n",
    "    \n",
    "    # создадим новый признак - максимальная цена\n",
    "    data['price_max'] = data['subcategory'].map(max_price_dict)\n",
    "    \n",
    "    # создадим новый признак - цена выше максимальной (аномалия)\n",
    "    data['price_above_max'] = data['price'] > data['price_max']\n",
    "    percentage_above_max = data.groupby('subcategory')['price_above_max'].mean() * 100\n",
    "    print(\"Выбросы для каждой подкатегории:\")\n",
    "    print(percentage_above_max)\n",
    "    \n",
    "    # уберем явные выбросы из датасета на основе max_price_dict\n",
    "    print(\"Для каждой группы это значение меньше 10% - удалим явные аномалии.\")\n",
    "    data_new = data[data['price_above_max'] == False]\n",
    "    \n",
    "    # Заполним пропущенные значения цены в датасете медианным значением подкатегории\n",
    "    filled_dataset = fillna_median(data_new, 'price')\n",
    "    \n",
    "    # Значения цены выше 75го персентиля прированяем 75му персентилю\n",
    "   # new_dataset = replace_outliers_with_quantile(filled_dataset, 'price')\n",
    "    new_dataset = filled_dataset\n",
    "\n",
    "    new_dataset['phone_num'] = new_dataset['description'].apply(phone_num)\n",
    "    new_dataset['phone_rus'] = new_dataset['description'].apply(phone_rus)\n",
    "    new_dataset['phone_no_letter'] = new_dataset['description'].apply(phone_no_letter)\n",
    "    new_dataset['phone_no_space'] = new_dataset['description'].apply(phone_no_space)\n",
    "    \n",
    "    return new_dataset"
   ]
  },
  {
   "cell_type": "code",
   "execution_count": 21,
   "metadata": {
    "execution": {
     "iopub.execute_input": "2024-02-26T21:23:50.660126Z",
     "iopub.status.busy": "2024-02-26T21:23:50.659754Z",
     "iopub.status.idle": "2024-02-26T21:28:31.747846Z",
     "shell.execute_reply": "2024-02-26T21:28:31.746873Z",
     "shell.execute_reply.started": "2024-02-26T21:23:50.660102Z"
    }
   },
   "outputs": [
    {
     "name": "stdout",
     "output_type": "stream",
     "text": [
      "Выбросы для каждой подкатегории:\n",
      "subcategory\n",
      "Автомобили                      0.008990\n",
      "Аквариум                        0.000000\n",
      "Аудио и видео                   0.037123\n",
      "Билеты и путешествия            0.961538\n",
      "Бытовая техника                 0.026526\n",
      "Вакансии                        0.037839\n",
      "Велосипеды                      0.000000\n",
      "Водный транспорт                0.072780\n",
      "Гаражи и машиноместа            0.170316\n",
      "Готовый бизнес                  0.100301\n",
      "Грузовики и спецтехника         1.077716\n",
      "Детская одежда и обувь          0.034768\n",
      "Дома, дачи, коттеджи            1.768308\n",
      "Другие животные                 0.861020\n",
      "Запчасти и аксессуары           0.033183\n",
      "Земельные участки               0.033170\n",
      "Игры, приставки и программы     6.404030\n",
      "Квартиры                        0.015112\n",
      "Книги и журналы                 0.028482\n",
      "Коллекционирование              0.005350\n",
      "Коммерческая недвижимость       0.851921\n",
      "Комнаты                         0.043773\n",
      "Кошки                           0.024528\n",
      "Красота и здоровье              4.807780\n",
      "Мебель и интерьер               0.031234\n",
      "Мотоциклы и мототехника         0.047534\n",
      "Музыкальные инструменты         0.026617\n",
      "Настольные компьютеры           0.092025\n",
      "Недвижимость за рубежом         0.800000\n",
      "Ноутбуки                        0.014380\n",
      "Оборудование для бизнеса        0.000000\n",
      "Одежда, обувь, аксессуары       0.031597\n",
      "Оргтехника и расходники         9.847495\n",
      "Охота и рыбалка                 4.867550\n",
      "Планшеты и электронные книги    2.040302\n",
      "Посуда и товары для кухни       2.062868\n",
      "Предложение услуг               0.698647\n",
      "Продукты питания                0.194595\n",
      "Птицы                           0.122100\n",
      "Растения                        0.068855\n",
      "Резюме                          0.230876\n",
      "Ремонт и строительство          0.341857\n",
      "Собаки                          0.046154\n",
      "Спорт и отдых                   0.914088\n",
      "Телефоны                        0.006168\n",
      "Товары для детей и игрушки      0.085924\n",
      "Товары для животных             0.000000\n",
      "Товары для компьютера           0.010800\n",
      "Фототехника                     0.000000\n",
      "Часы и украшения                0.010460\n",
      "Name: price_above_max, dtype: float64\n",
      "Для каждой группы это значение меньше 10% - удалим явные аномалии.\n",
      "==================================================\n",
      "Новый датасет после предобработки\n"
     ]
    },
    {
     "data": {
      "text/html": [
       "<div>\n",
       "<style scoped>\n",
       "    .dataframe tbody tr th:only-of-type {\n",
       "        vertical-align: middle;\n",
       "    }\n",
       "\n",
       "    .dataframe tbody tr th {\n",
       "        vertical-align: top;\n",
       "    }\n",
       "\n",
       "    .dataframe thead th {\n",
       "        text-align: right;\n",
       "    }\n",
       "</style>\n",
       "<table border=\"1\" class=\"dataframe\">\n",
       "  <thead>\n",
       "    <tr style=\"text-align: right;\">\n",
       "      <th></th>\n",
       "      <th>title</th>\n",
       "      <th>description</th>\n",
       "      <th>subcategory</th>\n",
       "      <th>category</th>\n",
       "      <th>price</th>\n",
       "      <th>region</th>\n",
       "      <th>city</th>\n",
       "      <th>datetime_submitted</th>\n",
       "      <th>is_bad</th>\n",
       "      <th>days</th>\n",
       "      <th>timedelta</th>\n",
       "      <th>price_max</th>\n",
       "      <th>price_above_max</th>\n",
       "      <th>phone_num</th>\n",
       "      <th>phone_rus</th>\n",
       "      <th>phone_no_letter</th>\n",
       "      <th>phone_no_space</th>\n",
       "    </tr>\n",
       "  </thead>\n",
       "  <tbody>\n",
       "    <tr>\n",
       "      <th>0</th>\n",
       "      <td>Диван-кровать</td>\n",
       "      <td>Продаем диван-кровать. Удобный механизм - евро...</td>\n",
       "      <td>Мебель и интерьер</td>\n",
       "      <td>Для дома и дачи</td>\n",
       "      <td>7000.0</td>\n",
       "      <td>Россия</td>\n",
       "      <td>Москва</td>\n",
       "      <td>2019-06-01 00:00:15.180656</td>\n",
       "      <td>0</td>\n",
       "      <td>130 days 23:59:44.819344</td>\n",
       "      <td>11318384</td>\n",
       "      <td>800000</td>\n",
       "      <td>False</td>\n",
       "      <td>1</td>\n",
       "      <td>0</td>\n",
       "      <td>1</td>\n",
       "      <td>0</td>\n",
       "    </tr>\n",
       "    <tr>\n",
       "      <th>1</th>\n",
       "      <td>Кожух рулевой колонки Даф хф 91 4509834</td>\n",
       "      <td>Кожух рулевой колонки DAF XF 94 (60066004)/\\n ...</td>\n",
       "      <td>Запчасти и аксессуары</td>\n",
       "      <td>Транспорт</td>\n",
       "      <td>2290.0</td>\n",
       "      <td>Россия</td>\n",
       "      <td>Москва</td>\n",
       "      <td>2019-06-01 00:00:44.317933</td>\n",
       "      <td>0</td>\n",
       "      <td>130 days 23:59:15.682067</td>\n",
       "      <td>11318355</td>\n",
       "      <td>615000</td>\n",
       "      <td>False</td>\n",
       "      <td>1</td>\n",
       "      <td>0</td>\n",
       "      <td>1</td>\n",
       "      <td>1</td>\n",
       "    </tr>\n",
       "    <tr>\n",
       "      <th>2</th>\n",
       "      <td>Дешёвый буст аккаунтов Dota 4</td>\n",
       "      <td>! Буст аккаунтов с ммр выше 1000ммр не беру ! ...</td>\n",
       "      <td>Предложение услуг</td>\n",
       "      <td>Услуги</td>\n",
       "      <td>200.0</td>\n",
       "      <td>Северная Осетия</td>\n",
       "      <td>Владикавказ</td>\n",
       "      <td>2019-06-01 00:00:50.249692</td>\n",
       "      <td>1</td>\n",
       "      <td>130 days 23:59:09.750308</td>\n",
       "      <td>11318349</td>\n",
       "      <td>180000</td>\n",
       "      <td>False</td>\n",
       "      <td>1</td>\n",
       "      <td>0</td>\n",
       "      <td>1</td>\n",
       "      <td>1</td>\n",
       "    </tr>\n",
       "    <tr>\n",
       "      <th>3</th>\n",
       "      <td>Телевизор sharp.Смарт тв.Интернет</td>\n",
       "      <td>Продам телевизор . Диагональ 450.наличие входа...</td>\n",
       "      <td>Аудио и видео</td>\n",
       "      <td>Бытовая электроника</td>\n",
       "      <td>25000.0</td>\n",
       "      <td>Калининградская область</td>\n",
       "      <td>Советск</td>\n",
       "      <td>2019-06-01 00:00:50.325799</td>\n",
       "      <td>1</td>\n",
       "      <td>130 days 23:59:09.674201</td>\n",
       "      <td>11318349</td>\n",
       "      <td>1500000</td>\n",
       "      <td>False</td>\n",
       "      <td>0</td>\n",
       "      <td>0</td>\n",
       "      <td>0</td>\n",
       "      <td>0</td>\n",
       "    </tr>\n",
       "    <tr>\n",
       "      <th>4</th>\n",
       "      <td>Открытка-конверт</td>\n",
       "      <td>Открытки-конверты ручной работы/\\nВыполнены в ...</td>\n",
       "      <td>Коллекционирование</td>\n",
       "      <td>Хобби и отдых</td>\n",
       "      <td>150.0</td>\n",
       "      <td>Ставропольский край</td>\n",
       "      <td>Ессентукская</td>\n",
       "      <td>2019-06-01 00:00:56.632655</td>\n",
       "      <td>0</td>\n",
       "      <td>130 days 23:59:03.367345</td>\n",
       "      <td>11318343</td>\n",
       "      <td>704000000</td>\n",
       "      <td>False</td>\n",
       "      <td>0</td>\n",
       "      <td>0</td>\n",
       "      <td>0</td>\n",
       "      <td>0</td>\n",
       "    </tr>\n",
       "  </tbody>\n",
       "</table>\n",
       "</div>"
      ],
      "text/plain": [
       "                                     title  \\\n",
       "0                            Диван-кровать   \n",
       "1  Кожух рулевой колонки Даф хф 91 4509834   \n",
       "2            Дешёвый буст аккаунтов Dota 4   \n",
       "3        Телевизор sharp.Смарт тв.Интернет   \n",
       "4                         Открытка-конверт   \n",
       "\n",
       "                                         description            subcategory  \\\n",
       "0  Продаем диван-кровать. Удобный механизм - евро...      Мебель и интерьер   \n",
       "1  Кожух рулевой колонки DAF XF 94 (60066004)/\\n ...  Запчасти и аксессуары   \n",
       "2  ! Буст аккаунтов с ммр выше 1000ммр не беру ! ...      Предложение услуг   \n",
       "3  Продам телевизор . Диагональ 450.наличие входа...          Аудио и видео   \n",
       "4  Открытки-конверты ручной работы/\\nВыполнены в ...     Коллекционирование   \n",
       "\n",
       "              category    price                   region          city  \\\n",
       "0      Для дома и дачи   7000.0                   Россия        Москва   \n",
       "1            Транспорт   2290.0                   Россия        Москва   \n",
       "2               Услуги    200.0          Северная Осетия   Владикавказ   \n",
       "3  Бытовая электроника  25000.0  Калининградская область       Советск   \n",
       "4        Хобби и отдых    150.0      Ставропольский край  Ессентукская   \n",
       "\n",
       "          datetime_submitted  is_bad                     days  timedelta  \\\n",
       "0 2019-06-01 00:00:15.180656       0 130 days 23:59:44.819344   11318384   \n",
       "1 2019-06-01 00:00:44.317933       0 130 days 23:59:15.682067   11318355   \n",
       "2 2019-06-01 00:00:50.249692       1 130 days 23:59:09.750308   11318349   \n",
       "3 2019-06-01 00:00:50.325799       1 130 days 23:59:09.674201   11318349   \n",
       "4 2019-06-01 00:00:56.632655       0 130 days 23:59:03.367345   11318343   \n",
       "\n",
       "   price_max  price_above_max  phone_num  phone_rus  phone_no_letter  \\\n",
       "0     800000            False          1          0                1   \n",
       "1     615000            False          1          0                1   \n",
       "2     180000            False          1          0                1   \n",
       "3    1500000            False          0          0                0   \n",
       "4  704000000            False          0          0                0   \n",
       "\n",
       "   phone_no_space  \n",
       "0               0  \n",
       "1               1  \n",
       "2               1  \n",
       "3               0  \n",
       "4               0  "
      ]
     },
     "execution_count": 21,
     "metadata": {},
     "output_type": "execute_result"
    }
   ],
   "source": [
    "data_processed = data_processing(data_new, date_get, max_price_dict)\n",
    "print(\"=\"*50)\n",
    "print(\"Новый датасет после предобработки\")\n",
    "data_processed.head()"
   ]
  },
  {
   "cell_type": "markdown",
   "metadata": {},
   "source": [
    "## Валидационная выборка"
   ]
  },
  {
   "cell_type": "code",
   "execution_count": 22,
   "metadata": {
    "execution": {
     "iopub.execute_input": "2024-02-26T21:28:31.750043Z",
     "iopub.status.busy": "2024-02-26T21:28:31.749283Z",
     "iopub.status.idle": "2024-02-26T21:28:32.176291Z",
     "shell.execute_reply": "2024-02-26T21:28:32.175407Z",
     "shell.execute_reply.started": "2024-02-26T21:28:31.750006Z"
    }
   },
   "outputs": [
    {
     "name": "stdout",
     "output_type": "stream",
     "text": [
      "\n",
      "Data Information:\n",
      "<class 'pandas.core.frame.DataFrame'>\n",
      "RangeIndex: 16237 entries, 0 to 16236\n",
      "Data columns (total 9 columns):\n",
      " #   Column              Non-Null Count  Dtype  \n",
      "---  ------              --------------  -----  \n",
      " 0   title               16237 non-null  object \n",
      " 1   description         16237 non-null  object \n",
      " 2   subcategory         16237 non-null  object \n",
      " 3   category            16237 non-null  object \n",
      " 4   price               15374 non-null  float64\n",
      " 5   region              16237 non-null  object \n",
      " 6   city                16237 non-null  object \n",
      " 7   datetime_submitted  16237 non-null  object \n",
      " 8   is_bad              16237 non-null  int64  \n",
      "dtypes: float64(1), int64(1), object(7)\n",
      "memory usage: 1.1+ MB\n",
      "==========\n",
      "\n",
      "Data missed values:\n"
     ]
    },
    {
     "data": {
      "text/html": [
       "<style type=\"text/css\">\n",
       "#T_f7715_row0_col0, #T_f7715_row1_col0, #T_f7715_row2_col0, #T_f7715_row3_col0, #T_f7715_row5_col0, #T_f7715_row6_col0, #T_f7715_row7_col0, #T_f7715_row8_col0 {\n",
       "  background-color: #3b4cc0;\n",
       "  color: #f1f1f1;\n",
       "}\n",
       "#T_f7715_row4_col0 {\n",
       "  background-color: #b40426;\n",
       "  color: #f1f1f1;\n",
       "}\n",
       "</style>\n",
       "<table id=\"T_f7715\">\n",
       "  <thead>\n",
       "    <tr>\n",
       "      <th class=\"blank level0\" >&nbsp;</th>\n",
       "      <th id=\"T_f7715_level0_col0\" class=\"col_heading level0 col0\" >0</th>\n",
       "    </tr>\n",
       "  </thead>\n",
       "  <tbody>\n",
       "    <tr>\n",
       "      <th id=\"T_f7715_level0_row0\" class=\"row_heading level0 row0\" >title</th>\n",
       "      <td id=\"T_f7715_row0_col0\" class=\"data row0 col0\" >0.000000</td>\n",
       "    </tr>\n",
       "    <tr>\n",
       "      <th id=\"T_f7715_level0_row1\" class=\"row_heading level0 row1\" >description</th>\n",
       "      <td id=\"T_f7715_row1_col0\" class=\"data row1 col0\" >0.000000</td>\n",
       "    </tr>\n",
       "    <tr>\n",
       "      <th id=\"T_f7715_level0_row2\" class=\"row_heading level0 row2\" >subcategory</th>\n",
       "      <td id=\"T_f7715_row2_col0\" class=\"data row2 col0\" >0.000000</td>\n",
       "    </tr>\n",
       "    <tr>\n",
       "      <th id=\"T_f7715_level0_row3\" class=\"row_heading level0 row3\" >category</th>\n",
       "      <td id=\"T_f7715_row3_col0\" class=\"data row3 col0\" >0.000000</td>\n",
       "    </tr>\n",
       "    <tr>\n",
       "      <th id=\"T_f7715_level0_row4\" class=\"row_heading level0 row4\" >price</th>\n",
       "      <td id=\"T_f7715_row4_col0\" class=\"data row4 col0\" >5.300000</td>\n",
       "    </tr>\n",
       "    <tr>\n",
       "      <th id=\"T_f7715_level0_row5\" class=\"row_heading level0 row5\" >region</th>\n",
       "      <td id=\"T_f7715_row5_col0\" class=\"data row5 col0\" >0.000000</td>\n",
       "    </tr>\n",
       "    <tr>\n",
       "      <th id=\"T_f7715_level0_row6\" class=\"row_heading level0 row6\" >city</th>\n",
       "      <td id=\"T_f7715_row6_col0\" class=\"data row6 col0\" >0.000000</td>\n",
       "    </tr>\n",
       "    <tr>\n",
       "      <th id=\"T_f7715_level0_row7\" class=\"row_heading level0 row7\" >datetime_submitted</th>\n",
       "      <td id=\"T_f7715_row7_col0\" class=\"data row7 col0\" >0.000000</td>\n",
       "    </tr>\n",
       "    <tr>\n",
       "      <th id=\"T_f7715_level0_row8\" class=\"row_heading level0 row8\" >is_bad</th>\n",
       "      <td id=\"T_f7715_row8_col0\" class=\"data row8 col0\" >0.000000</td>\n",
       "    </tr>\n",
       "  </tbody>\n",
       "</table>\n"
      ],
      "text/plain": [
       "<pandas.io.formats.style.Styler at 0x7dfa430ad4b0>"
      ]
     },
     "metadata": {},
     "output_type": "display_data"
    },
    {
     "name": "stdout",
     "output_type": "stream",
     "text": [
      "==========\n",
      "Summary Statistics:\n"
     ]
    },
    {
     "data": {
      "text/html": [
       "<div>\n",
       "<style scoped>\n",
       "    .dataframe tbody tr th:only-of-type {\n",
       "        vertical-align: middle;\n",
       "    }\n",
       "\n",
       "    .dataframe tbody tr th {\n",
       "        vertical-align: top;\n",
       "    }\n",
       "\n",
       "    .dataframe thead th {\n",
       "        text-align: right;\n",
       "    }\n",
       "</style>\n",
       "<table border=\"1\" class=\"dataframe\">\n",
       "  <thead>\n",
       "    <tr style=\"text-align: right;\">\n",
       "      <th></th>\n",
       "      <th>price</th>\n",
       "      <th>is_bad</th>\n",
       "    </tr>\n",
       "  </thead>\n",
       "  <tbody>\n",
       "    <tr>\n",
       "      <th>count</th>\n",
       "      <td>1.537400e+04</td>\n",
       "      <td>16237.000000</td>\n",
       "    </tr>\n",
       "    <tr>\n",
       "      <th>mean</th>\n",
       "      <td>6.986385e+06</td>\n",
       "      <td>0.245181</td>\n",
       "    </tr>\n",
       "    <tr>\n",
       "      <th>std</th>\n",
       "      <td>7.247229e+08</td>\n",
       "      <td>0.430208</td>\n",
       "    </tr>\n",
       "    <tr>\n",
       "      <th>min</th>\n",
       "      <td>0.000000e+00</td>\n",
       "      <td>0.000000</td>\n",
       "    </tr>\n",
       "    <tr>\n",
       "      <th>25%</th>\n",
       "      <td>1.500000e+03</td>\n",
       "      <td>0.000000</td>\n",
       "    </tr>\n",
       "    <tr>\n",
       "      <th>50%</th>\n",
       "      <td>6.500000e+03</td>\n",
       "      <td>0.000000</td>\n",
       "    </tr>\n",
       "    <tr>\n",
       "      <th>75%</th>\n",
       "      <td>4.500000e+04</td>\n",
       "      <td>0.000000</td>\n",
       "    </tr>\n",
       "    <tr>\n",
       "      <th>max</th>\n",
       "      <td>8.929893e+10</td>\n",
       "      <td>1.000000</td>\n",
       "    </tr>\n",
       "  </tbody>\n",
       "</table>\n",
       "</div>"
      ],
      "text/plain": [
       "              price        is_bad\n",
       "count  1.537400e+04  16237.000000\n",
       "mean   6.986385e+06      0.245181\n",
       "std    7.247229e+08      0.430208\n",
       "min    0.000000e+00      0.000000\n",
       "25%    1.500000e+03      0.000000\n",
       "50%    6.500000e+03      0.000000\n",
       "75%    4.500000e+04      0.000000\n",
       "max    8.929893e+10      1.000000"
      ]
     },
     "metadata": {},
     "output_type": "display_data"
    },
    {
     "name": "stdout",
     "output_type": "stream",
     "text": [
      "==========\n",
      "\n",
      "Data:\n",
      "                                      title  \\\n",
      "0                                      Шины   \n",
      "1  Продается мобильная перегородка с дверью   \n",
      "2   Комплект зимних шин на дисках 682/32/64   \n",
      "3         Кровать-трансормер Дакота сб-4085   \n",
      "4                    Honda VFR 800 2004 г.в   \n",
      "\n",
      "                                         description  \\\n",
      "0                                Звонить 89425546881   \n",
      "1  Мобильная перегородка, предназначена для разгр...   \n",
      "2  Шины зимние б/у Marshal Assimetric I”Zen KW 61...   \n",
      "3  Продаю кровать-трансформер производства \"Столп...   \n",
      "4  Мот в отличном состоянии для своих лет, Родной...   \n",
      "\n",
      "                subcategory         category     price               region  \\\n",
      "0     Запчасти и аксессуары        Транспорт    2000.0     Тульская область   \n",
      "1  Оборудование для бизнеса      Для бизнеса   10500.0  Вологодская область   \n",
      "2     Запчасти и аксессуары        Транспорт    4000.0               Россия   \n",
      "3         Мебель и интерьер  Для дома и дачи   17000.0   Московская область   \n",
      "4   Мотоциклы и мототехника        Транспорт  235000.0     Брянская область   \n",
      "\n",
      "       city          datetime_submitted  is_bad  \n",
      "0  Огаревка  2019-10-10 00:00:25.200714       1  \n",
      "1   Вологда  2019-10-10 00:03:11.527292       0  \n",
      "2    Москва  2019-10-10 00:05:07.193248       1  \n",
      "3     Химки  2019-10-10 00:05:58.165179       0  \n",
      "4    Брянск  2019-10-10 00:06:19.231151       0  \n"
     ]
    }
   ],
   "source": [
    "data_valid, data_valid_missed, data_valid_info, data_valid_statistics = initial_dataset_analysis(valid_path)\n",
    "\n",
    "print(\"\\nData Information:\")\n",
    "info_lines = data_valid_info.splitlines()\n",
    "for line in info_lines:\n",
    "    print(line)\n",
    "print(\"=\" * 10)\n",
    "\n",
    "print(\"\\nData missed values:\")\n",
    "display(data_valid_missed)\n",
    "print(\"=\" * 10)\n",
    "\n",
    "print(\"Summary Statistics:\")\n",
    "display(data_valid_statistics)\n",
    "print(\"=\" * 10)\n",
    "\n",
    "print(\"\\nData:\")\n",
    "print(data_valid.head())"
   ]
  },
  {
   "cell_type": "markdown",
   "metadata": {},
   "source": [
    "Произведем аналогичную предобработку для валидационного датасета."
   ]
  },
  {
   "cell_type": "code",
   "execution_count": 23,
   "metadata": {
    "execution": {
     "iopub.execute_input": "2024-02-26T21:28:32.177756Z",
     "iopub.status.busy": "2024-02-26T21:28:32.177478Z",
     "iopub.status.idle": "2024-02-26T21:28:32.183168Z",
     "shell.execute_reply": "2024-02-26T21:28:32.182226Z",
     "shell.execute_reply.started": "2024-02-26T21:28:32.177732Z"
    }
   },
   "outputs": [],
   "source": [
    "val = data_valid.copy()"
   ]
  },
  {
   "cell_type": "code",
   "execution_count": 24,
   "metadata": {
    "execution": {
     "iopub.execute_input": "2024-02-26T21:28:32.184484Z",
     "iopub.status.busy": "2024-02-26T21:28:32.184214Z",
     "iopub.status.idle": "2024-02-26T21:28:38.712056Z",
     "shell.execute_reply": "2024-02-26T21:28:38.711027Z",
     "shell.execute_reply.started": "2024-02-26T21:28:32.184460Z"
    }
   },
   "outputs": [
    {
     "name": "stdout",
     "output_type": "stream",
     "text": [
      "Выбросы для каждой подкатегории:\n",
      "subcategory\n",
      "Автомобили                       0.183318\n",
      "Аквариум                         0.000000\n",
      "Аудио и видео                    0.000000\n",
      "Билеты и путешествия             4.166667\n",
      "Бытовая техника                  0.000000\n",
      "Вакансии                         0.000000\n",
      "Велосипеды                       0.000000\n",
      "Водный транспорт                 0.000000\n",
      "Гаражи и машиноместа             0.000000\n",
      "Готовый бизнес                   0.000000\n",
      "Грузовики и спецтехника          0.643087\n",
      "Детская одежда и обувь           0.000000\n",
      "Дома, дачи, коттеджи             1.879699\n",
      "Другие животные                  0.000000\n",
      "Запчасти и аксессуары            0.049863\n",
      "Земельные участки                0.000000\n",
      "Игры, приставки и программы      4.545455\n",
      "Квартиры                         0.000000\n",
      "Книги и журналы                  0.000000\n",
      "Коллекционирование               0.000000\n",
      "Коммерческая недвижимость        0.952381\n",
      "Комнаты                          0.000000\n",
      "Кошки                            0.000000\n",
      "Красота и здоровье               2.985075\n",
      "Мебель и интерьер                0.000000\n",
      "Мотоциклы и мототехника          0.000000\n",
      "Музыкальные инструменты          0.000000\n",
      "Настольные компьютеры            0.000000\n",
      "Недвижимость за рубежом          0.000000\n",
      "Ноутбуки                         0.000000\n",
      "Оборудование для бизнеса         0.000000\n",
      "Одежда, обувь, аксессуары        0.159490\n",
      "Оргтехника и расходники         14.056225\n",
      "Охота и рыбалка                  4.545455\n",
      "Планшеты и электронные книги     1.785714\n",
      "Посуда и товары для кухни        0.000000\n",
      "Предложение услуг                0.446429\n",
      "Продукты питания                 0.000000\n",
      "Птицы                            0.000000\n",
      "Растения                         3.225806\n",
      "Резюме                           0.552486\n",
      "Ремонт и строительство           2.148438\n",
      "Собаки                           0.000000\n",
      "Спорт и отдых                    6.748466\n",
      "Телефоны                         0.000000\n",
      "Товары для детей и игрушки       1.315789\n",
      "Товары для животных              0.000000\n",
      "Товары для компьютера            0.000000\n",
      "Фототехника                      0.000000\n",
      "Часы и украшения                 0.900901\n",
      "Name: price_above_max, dtype: float64\n",
      "Для каждой группы это значение меньше 10% - удалим явные аномалии.\n",
      "==================================================\n",
      "Новый датасет после предобработки\n"
     ]
    },
    {
     "data": {
      "text/html": [
       "<div>\n",
       "<style scoped>\n",
       "    .dataframe tbody tr th:only-of-type {\n",
       "        vertical-align: middle;\n",
       "    }\n",
       "\n",
       "    .dataframe tbody tr th {\n",
       "        vertical-align: top;\n",
       "    }\n",
       "\n",
       "    .dataframe thead th {\n",
       "        text-align: right;\n",
       "    }\n",
       "</style>\n",
       "<table border=\"1\" class=\"dataframe\">\n",
       "  <thead>\n",
       "    <tr style=\"text-align: right;\">\n",
       "      <th></th>\n",
       "      <th>title</th>\n",
       "      <th>description</th>\n",
       "      <th>subcategory</th>\n",
       "      <th>category</th>\n",
       "      <th>price</th>\n",
       "      <th>region</th>\n",
       "      <th>city</th>\n",
       "      <th>datetime_submitted</th>\n",
       "      <th>is_bad</th>\n",
       "      <th>days</th>\n",
       "      <th>timedelta</th>\n",
       "      <th>price_max</th>\n",
       "      <th>price_above_max</th>\n",
       "      <th>phone_num</th>\n",
       "      <th>phone_rus</th>\n",
       "      <th>phone_no_letter</th>\n",
       "      <th>phone_no_space</th>\n",
       "    </tr>\n",
       "  </thead>\n",
       "  <tbody>\n",
       "    <tr>\n",
       "      <th>0</th>\n",
       "      <td>Шины</td>\n",
       "      <td>Звонить 89425546881</td>\n",
       "      <td>Запчасти и аксессуары</td>\n",
       "      <td>Транспорт</td>\n",
       "      <td>2000.0</td>\n",
       "      <td>Тульская область</td>\n",
       "      <td>Огаревка</td>\n",
       "      <td>2019-10-10 00:00:25.200714</td>\n",
       "      <td>1</td>\n",
       "      <td>-1 days +23:59:34.799286</td>\n",
       "      <td>-25</td>\n",
       "      <td>615000</td>\n",
       "      <td>False</td>\n",
       "      <td>1</td>\n",
       "      <td>1</td>\n",
       "      <td>1</td>\n",
       "      <td>1</td>\n",
       "    </tr>\n",
       "    <tr>\n",
       "      <th>1</th>\n",
       "      <td>Продается мобильная перегородка с дверью</td>\n",
       "      <td>Мобильная перегородка, предназначена для разгр...</td>\n",
       "      <td>Оборудование для бизнеса</td>\n",
       "      <td>Для бизнеса</td>\n",
       "      <td>10500.0</td>\n",
       "      <td>Вологодская область</td>\n",
       "      <td>Вологда</td>\n",
       "      <td>2019-10-10 00:03:11.527292</td>\n",
       "      <td>0</td>\n",
       "      <td>-1 days +23:56:48.472708</td>\n",
       "      <td>-191</td>\n",
       "      <td>110000000</td>\n",
       "      <td>False</td>\n",
       "      <td>1</td>\n",
       "      <td>0</td>\n",
       "      <td>1</td>\n",
       "      <td>0</td>\n",
       "    </tr>\n",
       "    <tr>\n",
       "      <th>2</th>\n",
       "      <td>Комплект зимних шин на дисках 682/32/64</td>\n",
       "      <td>Шины зимние б/у Marshal Assimetric I”Zen KW 61...</td>\n",
       "      <td>Запчасти и аксессуары</td>\n",
       "      <td>Транспорт</td>\n",
       "      <td>4000.0</td>\n",
       "      <td>Россия</td>\n",
       "      <td>Москва</td>\n",
       "      <td>2019-10-10 00:05:07.193248</td>\n",
       "      <td>1</td>\n",
       "      <td>-1 days +23:54:52.806752</td>\n",
       "      <td>-307</td>\n",
       "      <td>615000</td>\n",
       "      <td>False</td>\n",
       "      <td>1</td>\n",
       "      <td>0</td>\n",
       "      <td>1</td>\n",
       "      <td>1</td>\n",
       "    </tr>\n",
       "    <tr>\n",
       "      <th>3</th>\n",
       "      <td>Кровать-трансормер Дакота сб-4085</td>\n",
       "      <td>Продаю кровать-трансформер производства \"Столп...</td>\n",
       "      <td>Мебель и интерьер</td>\n",
       "      <td>Для дома и дачи</td>\n",
       "      <td>17000.0</td>\n",
       "      <td>Московская область</td>\n",
       "      <td>Химки</td>\n",
       "      <td>2019-10-10 00:05:58.165179</td>\n",
       "      <td>0</td>\n",
       "      <td>-1 days +23:54:01.834821</td>\n",
       "      <td>-358</td>\n",
       "      <td>800000</td>\n",
       "      <td>False</td>\n",
       "      <td>0</td>\n",
       "      <td>0</td>\n",
       "      <td>1</td>\n",
       "      <td>0</td>\n",
       "    </tr>\n",
       "    <tr>\n",
       "      <th>4</th>\n",
       "      <td>Honda VFR 800 2004 г.в</td>\n",
       "      <td>Мот в отличном состоянии для своих лет, Родной...</td>\n",
       "      <td>Мотоциклы и мототехника</td>\n",
       "      <td>Транспорт</td>\n",
       "      <td>235000.0</td>\n",
       "      <td>Брянская область</td>\n",
       "      <td>Брянск</td>\n",
       "      <td>2019-10-10 00:06:19.231151</td>\n",
       "      <td>0</td>\n",
       "      <td>-1 days +23:53:40.768849</td>\n",
       "      <td>-379</td>\n",
       "      <td>7000000</td>\n",
       "      <td>False</td>\n",
       "      <td>1</td>\n",
       "      <td>0</td>\n",
       "      <td>1</td>\n",
       "      <td>0</td>\n",
       "    </tr>\n",
       "  </tbody>\n",
       "</table>\n",
       "</div>"
      ],
      "text/plain": [
       "                                      title  \\\n",
       "0                                      Шины   \n",
       "1  Продается мобильная перегородка с дверью   \n",
       "2   Комплект зимних шин на дисках 682/32/64   \n",
       "3         Кровать-трансормер Дакота сб-4085   \n",
       "4                    Honda VFR 800 2004 г.в   \n",
       "\n",
       "                                         description  \\\n",
       "0                                Звонить 89425546881   \n",
       "1  Мобильная перегородка, предназначена для разгр...   \n",
       "2  Шины зимние б/у Marshal Assimetric I”Zen KW 61...   \n",
       "3  Продаю кровать-трансформер производства \"Столп...   \n",
       "4  Мот в отличном состоянии для своих лет, Родной...   \n",
       "\n",
       "                subcategory         category     price               region  \\\n",
       "0     Запчасти и аксессуары        Транспорт    2000.0     Тульская область   \n",
       "1  Оборудование для бизнеса      Для бизнеса   10500.0  Вологодская область   \n",
       "2     Запчасти и аксессуары        Транспорт    4000.0               Россия   \n",
       "3         Мебель и интерьер  Для дома и дачи   17000.0   Московская область   \n",
       "4   Мотоциклы и мототехника        Транспорт  235000.0     Брянская область   \n",
       "\n",
       "       city         datetime_submitted  is_bad                     days  \\\n",
       "0  Огаревка 2019-10-10 00:00:25.200714       1 -1 days +23:59:34.799286   \n",
       "1   Вологда 2019-10-10 00:03:11.527292       0 -1 days +23:56:48.472708   \n",
       "2    Москва 2019-10-10 00:05:07.193248       1 -1 days +23:54:52.806752   \n",
       "3     Химки 2019-10-10 00:05:58.165179       0 -1 days +23:54:01.834821   \n",
       "4    Брянск 2019-10-10 00:06:19.231151       0 -1 days +23:53:40.768849   \n",
       "\n",
       "   timedelta  price_max  price_above_max  phone_num  phone_rus  \\\n",
       "0        -25     615000            False          1          1   \n",
       "1       -191  110000000            False          1          0   \n",
       "2       -307     615000            False          1          0   \n",
       "3       -358     800000            False          0          0   \n",
       "4       -379    7000000            False          1          0   \n",
       "\n",
       "   phone_no_letter  phone_no_space  \n",
       "0                1               1  \n",
       "1                1               0  \n",
       "2                1               1  \n",
       "3                1               0  \n",
       "4                1               0  "
      ]
     },
     "execution_count": 24,
     "metadata": {},
     "output_type": "execute_result"
    }
   ],
   "source": [
    "val_processed = data_processing(val, date_get, max_price_dict)\n",
    "print(\"=\"*50)\n",
    "print(\"Новый датасет после предобработки\")\n",
    "val_processed.head()"
   ]
  },
  {
   "cell_type": "code",
   "execution_count": 25,
   "metadata": {
    "execution": {
     "iopub.execute_input": "2024-02-26T21:28:38.713763Z",
     "iopub.status.busy": "2024-02-26T21:28:38.713380Z",
     "iopub.status.idle": "2024-02-26T21:28:38.719857Z",
     "shell.execute_reply": "2024-02-26T21:28:38.718893Z",
     "shell.execute_reply.started": "2024-02-26T21:28:38.713725Z"
    }
   },
   "outputs": [],
   "source": [
    "# Класс, который выбранные признаки оставляет без изменений\n",
    "class Not_changed(BaseEstimator, TransformerMixin):\n",
    "\n",
    "    def fit(self, X, y=None):\n",
    "        self.columns = X.columns\n",
    "        return self\n",
    "  \n",
    "    def transform(self, X, y=None):\n",
    "        return X\n",
    "\n",
    "    def get_feature_names(self):\n",
    "        return self.columns  "
   ]
  },
  {
   "cell_type": "markdown",
   "metadata": {},
   "source": [
    "Создание пайплайна модели:"
   ]
  },
  {
   "cell_type": "code",
   "execution_count": 26,
   "metadata": {
    "execution": {
     "iopub.execute_input": "2024-02-26T21:28:38.722088Z",
     "iopub.status.busy": "2024-02-26T21:28:38.721114Z",
     "iopub.status.idle": "2024-02-26T21:28:38.733055Z",
     "shell.execute_reply": "2024-02-26T21:28:38.732105Z",
     "shell.execute_reply.started": "2024-02-26T21:28:38.722052Z"
    }
   },
   "outputs": [
    {
     "name": "stdout",
     "output_type": "stream",
     "text": [
      "CPU times: user 79 µs, sys: 1 µs, total: 80 µs\n",
      "Wall time: 84.2 µs\n"
     ]
    }
   ],
   "source": [
    "%%time\n",
    "\n",
    "pipeline = make_column_transformer(\n",
    "    #(CountVectorizer(min_df=1000), 'city'),\n",
    "    (CountVectorizer(min_df=1000, token_pattern=r'.+'), 'category'),\n",
    "    (Not_changed(), ['price', 'timedelta', 'phone_num', 'phone_rus', 'phone_no_letter', 'phone_no_space']),\n",
    "    (CountVectorizer(min_df=1000,\n",
    "                     analyzer='word',\n",
    "                     ngram_range=(1,3),\n",
    "                     tokenizer=tokenizer), 'description')\n",
    "    )"
   ]
  },
  {
   "cell_type": "markdown",
   "metadata": {},
   "source": [
    "## Подготовка данных к обучению"
   ]
  },
  {
   "cell_type": "markdown",
   "metadata": {},
   "source": [
    "Выделим признаки, а также целевой признак для обучения."
   ]
  },
  {
   "cell_type": "code",
   "execution_count": 27,
   "metadata": {
    "execution": {
     "iopub.execute_input": "2024-02-26T21:28:38.734467Z",
     "iopub.status.busy": "2024-02-26T21:28:38.734174Z",
     "iopub.status.idle": "2024-02-26T21:28:38.855947Z",
     "shell.execute_reply": "2024-02-26T21:28:38.855047Z",
     "shell.execute_reply.started": "2024-02-26T21:28:38.734443Z"
    }
   },
   "outputs": [],
   "source": [
    "target_train = data_processed['is_bad'] # целевой признак\n",
    "features_train = data_processed.drop(['is_bad', 'price_above_max', \n",
    "                                      'price_max', 'price_above_max', \n",
    "                                      'days', 'datetime_submitted'], axis=1) # признаки"
   ]
  },
  {
   "cell_type": "code",
   "execution_count": 28,
   "metadata": {
    "execution": {
     "iopub.execute_input": "2024-02-26T21:28:38.861715Z",
     "iopub.status.busy": "2024-02-26T21:28:38.861399Z",
     "iopub.status.idle": "2024-02-26T21:28:38.869237Z",
     "shell.execute_reply": "2024-02-26T21:28:38.868181Z",
     "shell.execute_reply.started": "2024-02-26T21:28:38.861683Z"
    }
   },
   "outputs": [],
   "source": [
    "target_valid = val_processed['is_bad'] # целевой признак\n",
    "features_valid = val_processed.drop(['is_bad', 'price_above_max', \n",
    "                                     'price_max', 'price_above_max', \n",
    "                                     'days', 'datetime_submitted'], axis=1) # признаки"
   ]
  },
  {
   "cell_type": "code",
   "execution_count": 29,
   "metadata": {
    "execution": {
     "iopub.execute_input": "2024-02-26T21:28:38.870928Z",
     "iopub.status.busy": "2024-02-26T21:28:38.870585Z",
     "iopub.status.idle": "2024-02-26T21:37:00.426734Z",
     "shell.execute_reply": "2024-02-26T21:37:00.425777Z",
     "shell.execute_reply.started": "2024-02-26T21:28:38.870898Z"
    }
   },
   "outputs": [
    {
     "name": "stderr",
     "output_type": "stream",
     "text": [
      "/opt/conda/lib/python3.10/site-packages/sklearn/feature_extraction/text.py:528: UserWarning: The parameter 'token_pattern' will not be used since 'tokenizer' is not None'\n",
      "  warnings.warn(\n"
     ]
    },
    {
     "name": "stdout",
     "output_type": "stream",
     "text": [
      "CPU times: user 8min 11s, sys: 10 s, total: 8min 21s\n",
      "Wall time: 8min 21s\n"
     ]
    }
   ],
   "source": [
    "%%time\n",
    "X_train = pipeline.fit_transform(features_train)\n",
    "X_valid = pipeline.transform(features_valid)\n",
    "  \n",
    "Y_train = data_processed.is_bad\n",
    "Y_valid = val_processed.is_bad"
   ]
  },
  {
   "cell_type": "code",
   "execution_count": 30,
   "metadata": {
    "execution": {
     "iopub.execute_input": "2024-02-26T21:37:00.428258Z",
     "iopub.status.busy": "2024-02-26T21:37:00.427958Z",
     "iopub.status.idle": "2024-02-26T21:37:00.434199Z",
     "shell.execute_reply": "2024-02-26T21:37:00.433376Z",
     "shell.execute_reply.started": "2024-02-26T21:37:00.428232Z"
    }
   },
   "outputs": [
    {
     "data": {
      "text/plain": [
       "(980916, 14893)"
      ]
     },
     "execution_count": 30,
     "metadata": {},
     "output_type": "execute_result"
    }
   ],
   "source": [
    "X_train.shape"
   ]
  },
  {
   "cell_type": "markdown",
   "metadata": {},
   "source": [
    "Так как у нас разреженная матрица, то мы не можем ее просто как признаки подать в CatBoostClassifier. Нужно подготовить специальный объект."
   ]
  },
  {
   "cell_type": "code",
   "execution_count": 31,
   "metadata": {
    "execution": {
     "iopub.execute_input": "2024-02-26T21:37:00.435711Z",
     "iopub.status.busy": "2024-02-26T21:37:00.435427Z",
     "iopub.status.idle": "2024-02-26T21:37:03.119833Z",
     "shell.execute_reply": "2024-02-26T21:37:03.118885Z",
     "shell.execute_reply.started": "2024-02-26T21:37:00.435687Z"
    }
   },
   "outputs": [],
   "source": [
    "from catboost import CatBoostClassifier, Pool\n",
    "# Создание Pool объекта, в который передаются данные и их имена признаков\n",
    "train_pool = Pool(data=X_train, label=Y_train)"
   ]
  },
  {
   "cell_type": "code",
   "execution_count": 32,
   "metadata": {
    "execution": {
     "iopub.execute_input": "2024-02-26T21:37:03.121736Z",
     "iopub.status.busy": "2024-02-26T21:37:03.121350Z",
     "iopub.status.idle": "2024-02-26T21:44:51.264746Z",
     "shell.execute_reply": "2024-02-26T21:44:51.263719Z",
     "shell.execute_reply.started": "2024-02-26T21:37:03.121701Z"
    }
   },
   "outputs": [
    {
     "name": "stderr",
     "output_type": "stream",
     "text": [
      "Default metric period is 5 because AUC is/are not implemented for GPU\n"
     ]
    },
    {
     "name": "stdout",
     "output_type": "stream",
     "text": [
      "0:\ttest: 0.8656811\tbest: 0.8656811 (0)\ttotal: 3.72s\tremaining: 1h 1m 52s\n",
      "50:\ttest: 0.9313095\tbest: 0.9313095 (50)\ttotal: 28.2s\tremaining: 8m 44s\n",
      "100:\ttest: 0.9457046\tbest: 0.9457046 (100)\ttotal: 51s\tremaining: 7m 34s\n",
      "150:\ttest: 0.9516083\tbest: 0.9516083 (150)\ttotal: 1m 13s\tremaining: 6m 51s\n",
      "200:\ttest: 0.9547615\tbest: 0.9547615 (200)\ttotal: 1m 34s\tremaining: 6m 17s\n",
      "250:\ttest: 0.9568910\tbest: 0.9568975 (249)\ttotal: 1m 56s\tremaining: 5m 47s\n",
      "300:\ttest: 0.9586331\tbest: 0.9586331 (300)\ttotal: 2m 18s\tremaining: 5m 21s\n",
      "350:\ttest: 0.9601145\tbest: 0.9601145 (350)\ttotal: 2m 40s\tremaining: 4m 56s\n",
      "400:\ttest: 0.9611386\tbest: 0.9611386 (400)\ttotal: 3m 1s\tremaining: 4m 31s\n",
      "450:\ttest: 0.9618896\tbest: 0.9618897 (449)\ttotal: 3m 23s\tremaining: 4m 7s\n",
      "500:\ttest: 0.9626857\tbest: 0.9626857 (500)\ttotal: 3m 45s\tremaining: 3m 44s\n",
      "550:\ttest: 0.9634533\tbest: 0.9634628 (549)\ttotal: 4m 7s\tremaining: 3m 21s\n",
      "600:\ttest: 0.9640241\tbest: 0.9640241 (600)\ttotal: 4m 29s\tremaining: 2m 59s\n",
      "650:\ttest: 0.9647296\tbest: 0.9647296 (650)\ttotal: 4m 52s\tremaining: 2m 36s\n",
      "700:\ttest: 0.9652556\tbest: 0.9652556 (700)\ttotal: 5m 14s\tremaining: 2m 14s\n",
      "750:\ttest: 0.9657453\tbest: 0.9657592 (748)\ttotal: 5m 36s\tremaining: 1m 51s\n",
      "800:\ttest: 0.9661228\tbest: 0.9661228 (800)\ttotal: 5m 58s\tremaining: 1m 29s\n",
      "850:\ttest: 0.9665294\tbest: 0.9665294 (850)\ttotal: 6m 20s\tremaining: 1m 6s\n",
      "900:\ttest: 0.9668468\tbest: 0.9668468 (900)\ttotal: 6m 41s\tremaining: 44.2s\n",
      "950:\ttest: 0.9671760\tbest: 0.9671760 (950)\ttotal: 7m 3s\tremaining: 21.8s\n",
      "999:\ttest: 0.9674431\tbest: 0.9674431 (999)\ttotal: 7m 24s\tremaining: 0us\n",
      "bestTest = 0.9674430788\n",
      "bestIteration = 999\n"
     ]
    },
    {
     "data": {
      "text/plain": [
       "<catboost.core.CatBoostClassifier at 0x7dfa430f3df0>"
      ]
     },
     "execution_count": 32,
     "metadata": {},
     "output_type": "execute_result"
    }
   ],
   "source": [
    "grid_cat = CatBoostClassifier(iterations=1000,\n",
    "                              depth=12,\n",
    "                              learning_rate=0.03,\n",
    "                              l2_leaf_reg=3,\n",
    "                              min_data_in_leaf=30,\n",
    "                              border_count=64,\n",
    "                              bagging_temperature=0.5,\n",
    "                              eval_metric='AUC',\n",
    "                              use_best_model=True,\n",
    "                              random_state=RANDOM_STATE, \n",
    "                              auto_class_weights='Balanced',\n",
    "                              task_type='GPU',\n",
    "                              silent=True)\n",
    "\n",
    "\n",
    "grid_cat.fit(train_pool,\n",
    "             verbose=50,\n",
    "             eval_set=(X_valid, Y_valid),\n",
    "             early_stopping_rounds=30)"
   ]
  },
  {
   "cell_type": "markdown",
   "metadata": {},
   "source": [
    "# Сохраняем веса модели"
   ]
  },
  {
   "cell_type": "code",
   "execution_count": null,
   "metadata": {},
   "outputs": [],
   "source": [
    "grid_cat.save_model('/kaggle/working/model_cat.cbm')"
   ]
  },
  {
   "cell_type": "code",
   "execution_count": 33,
   "metadata": {
    "execution": {
     "iopub.execute_input": "2024-02-26T21:44:51.266372Z",
     "iopub.status.busy": "2024-02-26T21:44:51.266069Z",
     "iopub.status.idle": "2024-02-26T21:44:51.522429Z",
     "shell.execute_reply": "2024-02-26T21:44:51.521406Z",
     "shell.execute_reply.started": "2024-02-26T21:44:51.266346Z"
    }
   },
   "outputs": [],
   "source": [
    "ra_cat = roc_auc_score(Y_valid, grid_cat.predict_proba(X_valid)[:, 1])"
   ]
  },
  {
   "cell_type": "markdown",
   "metadata": {
    "execution": {
     "iopub.execute_input": "2024-02-26T21:08:10.929853Z",
     "iopub.status.busy": "2024-02-26T21:08:10.929546Z",
     "iopub.status.idle": "2024-02-26T21:08:10.968974Z",
     "shell.execute_reply": "2024-02-26T21:08:10.967524Z",
     "shell.execute_reply.started": "2024-02-26T21:08:10.929806Z"
    }
   },
   "source": [
    "Посчитаем усредненный ROC-AUC по каждой категории объявлений."
   ]
  },
  {
   "cell_type": "code",
   "execution_count": 34,
   "metadata": {
    "execution": {
     "iopub.execute_input": "2024-02-26T21:44:51.524026Z",
     "iopub.status.busy": "2024-02-26T21:44:51.523702Z",
     "iopub.status.idle": "2024-02-26T21:45:01.247640Z",
     "shell.execute_reply": "2024-02-26T21:45:01.246410Z",
     "shell.execute_reply.started": "2024-02-26T21:44:51.523997Z"
    }
   },
   "outputs": [
    {
     "name": "stdout",
     "output_type": "stream",
     "text": [
      "ROC-AUC for Транспорт: 0.9897136969368205\n",
      "ROC-AUC for Для бизнеса: 0.8559986923831318\n",
      "ROC-AUC for Для дома и дачи: 0.9500775487043692\n",
      "ROC-AUC for Личные вещи: 0.804363468699133\n",
      "ROC-AUC for Услуги: 0.8981751168644372\n",
      "ROC-AUC for Бытовая электроника: 0.9427179091789732\n",
      "ROC-AUC for Недвижимость: 0.9822510358248933\n",
      "ROC-AUC for Хобби и отдых: 0.9522477522477523\n",
      "ROC-AUC for Работа: 0.9158802783338099\n",
      "ROC-AUC for Животные: 0.8955102040816326\n",
      "Mean ROC-AUC: 0.9186935703254953\n"
     ]
    }
   ],
   "source": [
    "categories = val_processed['category'].unique()\n",
    "mean_roc_auc = 0.0\n",
    "\n",
    "# Проходим по каждой категории\n",
    "for category in categories:\n",
    "    # Выбираем только строки с текущей категорией\n",
    "    category_data = val_processed[val_processed['category'] == category]\n",
    "    \n",
    "    category_features = pipeline.transform(category_data.drop(['is_bad', \n",
    "                                                               'price_above_max', \n",
    "                                                               'price_max', \n",
    "                                                               'price_above_max', \n",
    "                                                               'days', \n",
    "                                                               'datetime_submitted'], \n",
    "                                                              axis=1))\n",
    "    \n",
    "    # ROC-AUC по каждой категории\n",
    "    roc_auc = roc_auc_score(category_data['is_bad'], \n",
    "                            grid_cat.predict_proba(category_features)[:, 1])\n",
    "    \n",
    "    # Печать ROC-AUC для каждой категории (опционально)\n",
    "    print(f'ROC-AUC for {category}: {roc_auc}')\n",
    "    \n",
    "    # Добавление к текущему среднему\n",
    "    mean_roc_auc += roc_auc\n",
    "\n",
    "# Усреднение ROC-AUC по всем категориям\n",
    "mean_roc_auc /= len(categories)\n",
    "\n",
    "# Печать усредненного ROC-AUC\n",
    "print(f'Mean ROC-AUC: {mean_roc_auc}')"
   ]
  },
  {
   "cell_type": "markdown",
   "metadata": {},
   "source": [
    "# Вывод"
   ]
  },
  {
   "cell_type": "markdown",
   "metadata": {},
   "source": [
    "Была создана модель для проверки наличия контактной информации в тексте объявления. \n",
    "\n",
    "В данной задаче использовался `CatBoostClassifier`, который при первом приближении дал результат `0,72`. Дополнительные признаки, улучшили значение метрики до `0,918`. \n",
    "\n",
    "Также есть идея, что можно получить хорошие результаты на основе обучения Q/A модели, которая сможет предсказать начало и конец контактной информации после дообучения."
   ]
  }
 ],
 "metadata": {
  "kaggle": {
   "accelerator": "gpu",
   "dataSources": [
    {
     "datasetId": 4465272,
     "sourceId": 7658384,
     "sourceType": "datasetVersion"
    },
    {
     "datasetId": 4471110,
     "sourceId": 7673617,
     "sourceType": "datasetVersion"
    }
   ],
   "dockerImageVersionId": 30648,
   "isGpuEnabled": true,
   "isInternetEnabled": true,
   "language": "python",
   "sourceType": "notebook"
  },
  "kernelspec": {
   "display_name": "Python 3 (ipykernel)",
   "language": "python",
   "name": "python3"
  },
  "language_info": {
   "codemirror_mode": {
    "name": "ipython",
    "version": 3
   },
   "file_extension": ".py",
   "mimetype": "text/x-python",
   "name": "python",
   "nbconvert_exporter": "python",
   "pygments_lexer": "ipython3",
   "version": "3.9.18"
  }
 },
 "nbformat": 4,
 "nbformat_minor": 4
}
